{
 "cells": [
  {
   "cell_type": "code",
   "execution_count": null,
   "id": "bcd5f105",
   "metadata": {},
   "outputs": [],
   "source": [
    "import pandas as pd\n",
    "import numpy as np\n",
    "import matplotlib.pyplot as plt\n",
    "import seaborn as sns"
   ]
  },
  {
   "cell_type": "code",
   "execution_count": null,
   "id": "db7b7eeb",
   "metadata": {},
   "outputs": [],
   "source": [
    "data = pd.read_csv(\"DataSet/housing.csv\")"
   ]
  },
  {
   "cell_type": "code",
   "execution_count": null,
   "id": "81c3d0f9",
   "metadata": {},
   "outputs": [],
   "source": [
    "data"
   ]
  },
  {
   "cell_type": "code",
   "execution_count": null,
   "id": "ea30116c",
   "metadata": {},
   "outputs": [],
   "source": [
    "data.info()"
   ]
  },
  {
   "cell_type": "code",
   "execution_count": null,
   "id": "469765c5",
   "metadata": {},
   "outputs": [],
   "source": [
    "data.dropna()"
   ]
  },
  {
   "cell_type": "code",
   "execution_count": null,
   "id": "0f73643e",
   "metadata": {},
   "outputs": [],
   "source": [
    "data.dropna(inplace=True)"
   ]
  },
  {
   "cell_type": "code",
   "execution_count": null,
   "id": "91f0430c",
   "metadata": {},
   "outputs": [],
   "source": [
    "data.info()"
   ]
  },
  {
   "cell_type": "code",
   "execution_count": null,
   "id": "04553e1b",
   "metadata": {},
   "outputs": [],
   "source": [
    "from sklearn.model_selection import train_test_split\n",
    "# x is data frame without target variable\n",
    "x = data.drop(['median_house_value'], axis = 1)\n",
    "# y is target variable\n",
    "y = data['median_house_value']\n"
   ]
  },
  {
   "cell_type": "code",
   "execution_count": null,
   "id": "6c2c7128",
   "metadata": {},
   "outputs": [],
   "source": [
    "x_train, x_test, y_train, y_test = train_test_split(x, y, test_size=0.2)"
   ]
  },
  {
   "cell_type": "code",
   "execution_count": null,
   "id": "ffbf2670",
   "metadata": {},
   "outputs": [],
   "source": [
    "train_data = x_train.join(y_train)"
   ]
  },
  {
   "cell_type": "code",
   "execution_count": null,
   "id": "ec88f420",
   "metadata": {},
   "outputs": [],
   "source": [
    "train_data"
   ]
  },
  {
   "cell_type": "code",
   "execution_count": null,
   "id": "66dc3f28",
   "metadata": {},
   "outputs": [],
   "source": [
    "train_data.hist(figsize=(16,8))"
   ]
  },
  {
   "cell_type": "code",
   "execution_count": null,
   "id": "d56611f6",
   "metadata": {},
   "outputs": [],
   "source": [
    "train_data"
   ]
  },
  {
   "cell_type": "code",
   "execution_count": null,
   "id": "5bfc5925",
   "metadata": {},
   "outputs": [],
   "source": [
    "train_data.corr(numeric_only = True)"
   ]
  },
  {
   "cell_type": "code",
   "execution_count": null,
   "id": "231b980a-85c2-478f-9c08-53497075125c",
   "metadata": {},
   "outputs": [],
   "source": [
    "plt.figure(figsize=(15,8))\n",
    "sns.heatmap(train_data.corr(numeric_only=True),annot=True, cmap= \"YlGnBu\")"
   ]
  },
  {
   "cell_type": "code",
   "execution_count": null,
   "id": "e7cb8af4-294d-41db-bf45-f0a9ebc20546",
   "metadata": {},
   "outputs": [],
   "source": [
    "train_data['total_rooms'] = np.log(train_data['total_rooms']+1)\n",
    "train_data['total_bedrooms'] = np.log(train_data['total_bedrooms']+1)\n",
    "train_data['population'] = np.log(train_data['population']+1)\n",
    "train_data['households'] = np.log(train_data['households']+1)"
   ]
  },
  {
   "cell_type": "code",
   "execution_count": null,
   "id": "c050284d-f2c7-448d-8f66-69ffde4cf3dd",
   "metadata": {},
   "outputs": [],
   "source": [
    "train_data.hist(figsize=(15,8))"
   ]
  },
  {
   "cell_type": "code",
   "execution_count": null,
   "id": "1042efb7-f258-4d55-ad85-296b5473a06b",
   "metadata": {},
   "outputs": [],
   "source": [
    "train_data.ocean_proximity.value_counts()"
   ]
  },
  {
   "cell_type": "code",
   "execution_count": null,
   "id": "9299cc2e-65f4-4ba2-ad54-24fe8e5c2018",
   "metadata": {},
   "outputs": [],
   "source": [
    "train_data=train_data.join(pd.get_dummies(train_data.ocean_proximity, dtype=int)).drop(['ocean_proximity'], axis=1)"
   ]
  },
  {
   "cell_type": "code",
   "execution_count": null,
   "id": "29ce27a9-3332-485d-a990-d3a12c1e6c9b",
   "metadata": {},
   "outputs": [],
   "source": [
    "train_data"
   ]
  },
  {
   "cell_type": "code",
   "execution_count": null,
   "id": "12c7bb22-c594-495f-8b0e-692e22c5e173",
   "metadata": {},
   "outputs": [],
   "source": [
    "plt.figure(figsize=(15,8))\n",
    "sns.heatmap(train_data.corr(numeric_only=True),annot=True, cmap= \"YlGnBu\")"
   ]
  },
  {
   "cell_type": "code",
   "execution_count": null,
   "id": "943d6fe3-9509-4b5b-ad06-e05493c12041",
   "metadata": {},
   "outputs": [],
   "source": [
    "plt.figure(figsize=(15,8))\n",
    "sns.scatterplot(x=\"latitude\", y= \"longitude\", data= train_data, hue= \"median_house_value\", palette= \"coolwarm\")"
   ]
  },
  {
   "cell_type": "code",
   "execution_count": null,
   "id": "1175b3e0-499b-4236-a1c9-cb47a6c1b880",
   "metadata": {},
   "outputs": [],
   "source": [
    "train_data['bedroom_ratio'] = train_data['total_bedrooms'] / train_data['total_rooms']\n",
    "train_data['household_rooms'] = train_data['total_rooms'] / train_data['households']"
   ]
  },
  {
   "cell_type": "code",
   "execution_count": null,
   "id": "88e885b3-ddb5-4b79-a5e2-b98a647e5d33",
   "metadata": {},
   "outputs": [],
   "source": [
    "plt.figure(figsize=(15,8))\n",
    "sns.heatmap(train_data.corr(numeric_only=True),annot=True, cmap= \"YlGnBu\")"
   ]
  },
  {
   "cell_type": "code",
   "execution_count": null,
   "id": "07fc7830-795e-4e5c-82eb-e27737ac42f0",
   "metadata": {},
   "outputs": [],
   "source": [
    "from sklearn.linear_model import LinearRegression\n",
    "from sklearn.preprocessing import StandardScaler\n",
    "\n",
    "scaler = StandardScaler()\n",
    "x_train, y_train = train_data.drop(['median_house_value'], axis = 1), train_data['median_house_value']\n",
    "x_train_s = scaler.fit_transform(x_train)\n",
    "reg = LinearRegression()\n",
    "reg.fit(x_train_s,y_train)\n"
   ]
  },
  {
   "cell_type": "code",
   "execution_count": null,
   "id": "b43c76b5-bef4-41b8-a7f9-bc0caa857a7b",
   "metadata": {},
   "outputs": [],
   "source": [
    "test_data = x_test.join(y_test)\n",
    "\n",
    "test_data['total_rooms'] = np.log(test_data['total_rooms']+1)\n",
    "test_data['total_bedrooms'] = np.log(test_data['total_bedrooms']+1)\n",
    "test_data['population'] = np.log(test_data['population']+1)\n",
    "test_data['households'] = np.log(test_data['households']+1)\n",
    "\n",
    "test_data = test_data.join(pd.get_dummies(test_data.ocean_proximity, dtype=int)).drop(['ocean_proximity'], axis=1)\n",
    "\n",
    "test_data['bedroom_ratio'] = test_data['total_bedrooms'] / test_data['total_rooms']\n",
    "test_data['household_rooms'] = test_data['total_rooms'] / test_data['households']\n",
    "\n",
    "\n",
    "\n",
    "\n"
   ]
  },
  {
   "cell_type": "code",
   "execution_count": null,
   "id": "6557a69b-1571-49c7-a8e8-2c7a31e653dd",
   "metadata": {},
   "outputs": [],
   "source": [
    "x_test, y_test = test_data.drop(['median_house_value'], axis = 1), test_data['median_house_value']\n",
    "x_test_s= scaler.transform(x_test)\n",
    "reg.score(x_test_s, y_test)"
   ]
  },
  {
   "cell_type": "code",
   "execution_count": null,
   "id": "11882a3b-dfb6-4732-9f76-d4dae5308149",
   "metadata": {},
   "outputs": [],
   "source": [
    "from sklearn.ensemble import RandomForestRegressor\n",
    "\n",
    "forest = RandomForestRegressor()\n",
    "forest.fit(x_train, y_train)\n",
    "forest.score(x_test, y_test)\n"
   ]
  },
  {
   "cell_type": "code",
   "execution_count": null,
   "id": "1a197372-95cd-49a7-8cc7-1be007d59ca4",
   "metadata": {},
   "outputs": [],
   "source": []
  }
 ],
 "metadata": {
  "kernelspec": {
   "display_name": "Python 3 (ipykernel)",
   "language": "python",
   "name": "python3"
  },
  "language_info": {
   "codemirror_mode": {
    "name": "ipython",
    "version": 3
   },
   "file_extension": ".py",
   "mimetype": "text/x-python",
   "name": "python",
   "nbconvert_exporter": "python",
   "pygments_lexer": "ipython3",
   "version": "3.12.0"
  }
 },
 "nbformat": 4,
 "nbformat_minor": 5
}
